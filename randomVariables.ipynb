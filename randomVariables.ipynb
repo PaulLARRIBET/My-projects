{
 "cells": [
  {
   "cell_type": "markdown",
   "id": "cafbbc97-64ff-4941-a3cc-c70e8da72917",
   "metadata": {},
   "source": [
    "# Random variables in computer science"
   ]
  },
  {
   "cell_type": "markdown",
   "id": "cc2f56b6-2d1c-4210-9657-2891a7c3aed8",
   "metadata": {},
   "source": [
    "# 1. Introduction"
   ]
  },
  {
   "cell_type": "markdown",
   "id": "9b29ba31-101d-4a80-ad1e-fd2769083b6d",
   "metadata": {},
   "source": [
    "In the realm of computing, generating truly random numbers is fundamentally impossible. This limitation arises from the deterministic nature of computers, which operate on predefined algorithms and logic. Unlike natural phenomena, which can exhibit genuine randomness, a computer's behavior is dictated by a sequence of instructions that always yield predictable outcomes when given the same input.\n",
    "\n",
    "To address this constraint, computer scientists have developed Pseudo-Random Number Generators (PRNGs). PRNGs use mathematical algorithms to produce sequences of numbers that mimic the statistical properties of randomness. However, these numbers are not truly random; they are deterministic and depend on an initial input called a \"seed.\" Given the same seed, a PRNG will always generate the exact same sequence, making it predictable in theory."
   ]
  },
  {
   "cell_type": "markdown",
   "id": "c4f7e52d-9f00-49d8-9e9a-b650e2d0e3c4",
   "metadata": {},
   "source": [
    "# 2. PRNG"
   ]
  },
  {
   "cell_type": "markdown",
   "id": "e4f87b30-37cf-4bfb-a3a7-71a7f52aad7d",
   "metadata": {},
   "source": [
    "A simple way to generate a seed is to take a random number for the environment like the number of milliseconds of the current hour. Once we have this seed, we can use the Linear Congruential Generator consisting in updating our random number the following way :\n",
    "$X_{n+1}=(aX_n+c)\\mod m$"
   ]
  },
  {
   "cell_type": "code",
   "execution_count": 275,
   "id": "5d9729d7-120f-490a-bd5f-144d13f986c1",
   "metadata": {},
   "outputs": [],
   "source": [
    "import time\n",
    "import numpy as np\n",
    "import matplotlib.pyplot as plt\n",
    "import math"
   ]
  },
  {
   "cell_type": "code",
   "execution_count": 113,
   "id": "1cb7712f-1ead-43b6-ae75-5e366ead4de9",
   "metadata": {},
   "outputs": [],
   "source": [
    "def get_seed():\n",
    "    '''\n",
    "    Output:\n",
    "    The number of milliseconds of the current hour\n",
    "    '''\n",
    "    return int(time.time() * 1000)%1000"
   ]
  },
  {
   "cell_type": "code",
   "execution_count": 121,
   "id": "f8b50bc5-e5d8-4c68-8d98-42e6c12a6534",
   "metadata": {},
   "outputs": [],
   "source": [
    "def random(seed, a, c, m):\n",
    "    '''\n",
    "    Parameters:\n",
    "    seed: int, the seed\n",
    "    a:int\n",
    "    c:int\n",
    "    m:int\n",
    "\n",
    "    Output:\n",
    "    (random number between 0 and 1, the new seed)\n",
    "    '''\n",
    "    for _ in range(100):\n",
    "        seed = (a * seed + c) % m\n",
    "    return seed / m, seed"
   ]
  },
  {
   "cell_type": "code",
   "execution_count": 123,
   "id": "a38f5140-f8de-4104-bda0-d3a67dc63d76",
   "metadata": {},
   "outputs": [
    {
     "name": "stdout",
     "output_type": "stream",
     "text": [
      "0.4501854283735156\n",
      "0.9450750350952148\n",
      "0.6241201804950833\n",
      "0.3998014573007822\n",
      "0.3231683364138007\n",
      "0.001136530190706253\n",
      "0.14366816822439432\n",
      "0.5689597856253386\n",
      "0.2447631238028407\n",
      "0.19396374374628067\n"
     ]
    }
   ],
   "source": [
    "a = 1664525\n",
    "c = 1013904223\n",
    "m = 2**32\n",
    "seed = get_seed()\n",
    "\n",
    "for _ in range(10):\n",
    "    value, seed = random(seed, a, c, m)\n",
    "    print(value)"
   ]
  },
  {
   "cell_type": "code",
   "execution_count": 170,
   "id": "8c3701b9-6b18-44c0-8b04-130c5558ef2a",
   "metadata": {},
   "outputs": [],
   "source": [
    "def random_value():\n",
    "    '''\n",
    "    Output:\n",
    "    A random variables between O and 1\n",
    "    '''\n",
    "    a = 1664525\n",
    "    c = 1013904223\n",
    "    m = 2**32\n",
    "    seed = get_seed()\n",
    "    return random(seed, a, c, m)[0]"
   ]
  },
  {
   "cell_type": "code",
   "execution_count": 174,
   "id": "b77bad0b-9036-4263-9bd4-31a292a5caec",
   "metadata": {},
   "outputs": [
    {
     "data": {
      "text/plain": [
       "0.699023790191859"
      ]
     },
     "execution_count": 174,
     "metadata": {},
     "output_type": "execute_result"
    }
   ],
   "source": [
    "random_value()"
   ]
  },
  {
   "cell_type": "code",
   "execution_count": 165,
   "id": "9d383314-9a80-40b5-b052-cc78e00c049e",
   "metadata": {},
   "outputs": [],
   "source": [
    "def random_array(n, p):\n",
    "    '''\n",
    "    Parameters:\n",
    "    n: int, number of rows\n",
    "    m: int, number of columns\n",
    "\n",
    "    Output:\n",
    "    M: numpy array, a matrix with independent random numbers between 0 and 1 of size (n,m)\n",
    "    '''\n",
    "    a = 1664525\n",
    "    c = 1013904223\n",
    "    m = 2**32\n",
    "    seed = get_seed()  # Initialisation de la graine avant de commencer\n",
    "    L = []\n",
    "    for _ in range(n * p):\n",
    "        value, seed = random(seed, a, c, m)  # La graine évolue à chaque itération\n",
    "        L.append(value)\n",
    "    return np.array(L).reshape((n, p))  # Reshape la liste en une matrice (n, m)\n"
   ]
  },
  {
   "cell_type": "code",
   "execution_count": 167,
   "id": "3f13a6f7-59d1-41e4-b34c-b770106a2546",
   "metadata": {},
   "outputs": [
    {
     "data": {
      "text/plain": [
       "array([[0.96600997, 0.7389243 , 0.03506526, 0.79368976],\n",
       "       [0.07304656, 0.79897246, 0.25665256, 0.46616957],\n",
       "       [0.8324672 , 0.71035258, 0.77516279, 0.33972041]])"
      ]
     },
     "execution_count": 167,
     "metadata": {},
     "output_type": "execute_result"
    }
   ],
   "source": [
    "random_array(3,4)"
   ]
  },
  {
   "cell_type": "markdown",
   "id": "89e36060-5eec-438d-9952-66a804e19cde",
   "metadata": {},
   "source": [
    "# 3. Generate other random variables"
   ]
  },
  {
   "cell_type": "markdown",
   "id": "93f64d0f-a303-4225-968f-f97daf6f92bf",
   "metadata": {},
   "source": [
    "## 3.1. Translation method"
   ]
  },
  {
   "cell_type": "markdown",
   "id": "e5a5c4ed-79b8-4d88-a658-fe9ba7a839f6",
   "metadata": {},
   "source": [
    "As far as here, we are only able to generate random numbers between 0 and 1 ie we can simulate $X\\hookrightarrow \\mathcal U([0,1])$ but to simulate $Y\\hookrightarrow \\mathcal U([a,b])$ we can use the fact that $Y=a+(b-a)X$ where $X\\hookrightarrow \\mathcal U([0,1])$"
   ]
  },
  {
   "cell_type": "code",
   "execution_count": 181,
   "id": "1dfb0d43-299f-46e4-9bec-07df80371338",
   "metadata": {},
   "outputs": [],
   "source": [
    "def random_value(alpha,beta):\n",
    "    '''\n",
    "    Output:\n",
    "    A random variables between alpha and beta\n",
    "    '''\n",
    "    a = 1664525\n",
    "    c = 1013904223\n",
    "    m = 2**32\n",
    "    seed = get_seed()\n",
    "    return alpha + (beta-alpha)*random(seed, a, c, m)[0]"
   ]
  },
  {
   "cell_type": "code",
   "execution_count": 185,
   "id": "330859de-075e-4aeb-8c17-a38c4c886f51",
   "metadata": {},
   "outputs": [
    {
     "data": {
      "text/plain": [
       "8.495814261259511"
      ]
     },
     "execution_count": 185,
     "metadata": {},
     "output_type": "execute_result"
    }
   ],
   "source": [
    "random_value(3,10)"
   ]
  },
  {
   "cell_type": "markdown",
   "id": "b7c750c8-43a6-4d7f-945a-4a41aef8b3b5",
   "metadata": {},
   "source": [
    "## 3.2. Inversion method"
   ]
  },
  {
   "cell_type": "markdown",
   "id": "98a8caa6-3f9b-43cf-8b37-bde165a9e6f0",
   "metadata": {},
   "source": [
    "### 3.2.1. Distribution function"
   ]
  },
  {
   "cell_type": "markdown",
   "id": "d1922bf1-7a7a-487f-ad66-3ee31eec583f",
   "metadata": {},
   "source": [
    "Let $X$ be a random variable. The distribution function of $X$ is defined as $\\forall x \\in \\mathbb R, F_X(x)=\\mathbb P(X\\leq x)$.\n",
    "This function has the following properties :  \n",
    "$\\lim_{x\\rightarrow -\\infty} F_X(x)=0$  \n",
    "$\\lim_{x\\rightarrow +\\infty} F_X(x)=1$  \n",
    "Non-decreasing, right continuous with left limit\n"
   ]
  },
  {
   "cell_type": "markdown",
   "id": "5f43052f-0b6d-49d9-b31c-a509da0dca8d",
   "metadata": {},
   "source": [
    "#### Example"
   ]
  },
  {
   "cell_type": "markdown",
   "id": "75cad515-b049-4f5f-8a6b-8ca99f21fe40",
   "metadata": {},
   "source": [
    "$X(\\Omega)=\\{1,2,3\\}$ with $\\mathbb P(X=1)=0.2$, $\\mathbb P(X=2)=0.3$ and $\\mathbb P(X=3)=0.5$  \n",
    "The distribution function is the following :"
   ]
  },
  {
   "cell_type": "code",
   "execution_count": 249,
   "id": "39e0d6e8-b202-4848-8850-ddc37496f79d",
   "metadata": {},
   "outputs": [
    {
     "data": {
      "image/png": "[encoded data removed]",
      "text/plain": [
       "<Figure size 640x480 with 1 Axes>"
      ]
     },
     "metadata": {},
     "output_type": "display_data"
    }
   ],
   "source": [
    "plt.hlines(y=0, xmin=-1, xmax=1, colors='black', linestyles='-')\n",
    "plt.hlines(y=0.2, xmin=1, xmax=2, colors='black', linestyles='-')\n",
    "plt.hlines(y=0.5, xmin=2, xmax=3, colors='black', linestyles='-')\n",
    "plt.hlines(y=1, xmin=3, xmax=5, colors='black', linestyles='-')\n",
    "plt.yticks([0,0.2, 0.5, 1])\n",
    "points_x = [1, 1, 2,2, 3,3]\n",
    "points_y = [0, 0.2, 0.2, 0.5,0.5, 1]\n",
    "for x, y in zip(points_x, points_y):\n",
    "    plt.text(x,y, '[', fontsize=12, color='black', ha='center', va='center')\n",
    "plt.title(r\"Distribution function of $F_X(x)$\")\n",
    "plt.show()"
   ]
  },
  {
   "cell_type": "markdown",
   "id": "b8297cc5-3bd9-4b45-98d5-ac22a21d749c",
   "metadata": {},
   "source": [
    "We then introduce the generalized inverse of the distribution function $\\forall t \\in ]0,1[, F_X^-(t)=\\inf \\{x, F_X(x)\\geq t\\}$.  \n",
    "In the above example, $F_X^-(0.7)=3$  \n",
    "When $F_X$ is stricly increasing and continuous then $F_X^-=F_X^{-1}$"
   ]
  },
  {
   "cell_type": "markdown",
   "id": "5820dde0-883f-47f9-86c2-ae11024ada3b",
   "metadata": {},
   "source": [
    "#### Proposition"
   ]
  },
  {
   "cell_type": "markdown",
   "id": "99943fc4-967e-462e-9e2f-ebafcd67fa8b",
   "metadata": {},
   "source": [
    "When $U\\hookrightarrow \\mathcal U([0,1])$ then $F_X^-$ has the same distribution than $X$"
   ]
  },
  {
   "cell_type": "markdown",
   "id": "d11a9390-7e68-4a88-b25a-82d2b4a7dd8f",
   "metadata": {},
   "source": [
    "### 3.3.2 Exponential random variables"
   ]
  },
  {
   "cell_type": "markdown",
   "id": "f3aa30e8-fb8a-49b0-adec-231ada9d61bf",
   "metadata": {},
   "source": [
    "$X\\hookrightarrow \\epsilon(\\lambda)$, then $F_X(x)=(1-e^{-\\lambda x})\\mathbb I_{x\\geq 0}$ so $F_X(x)\\geq t\\iff x\\geq -\\frac{ln(1-t)}{\\lambda}$ but $1-U$ and $U$ have the same distribution so $-\\frac{ln(U)}{\\lambda}\\hookrightarrow \\epsilon(\\lambda)$"
   ]
  },
  {
   "cell_type": "code",
   "execution_count": 279,
   "id": "73f3016e-4680-4b99-ba1f-4c3e48d4df68",
   "metadata": {},
   "outputs": [
    {
     "data": {
      "image/png": "[encoded data removed]",
      "text/plain": [
       "<Figure size 500x400 with 1 Axes>"
      ]
     },
     "metadata": {},
     "output_type": "display_data"
    }
   ],
   "source": [
    "n = 1000\n",
    "M = random_array(1,n)\n",
    "R = [-math.log(M[0,j]) for j in range(n)]\n",
    "x = np.linspace(0,max(R), 100)\n",
    "y = np.exp(-x)\n",
    "plt.figure(figsize=(5,4))\n",
    "plt.title(r\"Distribution of $-ln(U)$\")\n",
    "plt.hist(R, bins = 20, density = True)\n",
    "plt.plot(x,y, label = r\"$y=e^{-x}$\", color = \"red\")\n",
    "plt.legend()\n",
    "plt.show()"
   ]
  },
  {
   "cell_type": "code",
   "execution_count": null,
   "id": "caa2ea42-1c10-4afe-a308-99e97e5e9a59",
   "metadata": {},
   "outputs": [],
   "source": []
  }
 ],
 "metadata": {
  "kernelspec": {
   "display_name": "Python 3 (ipykernel)",
   "language": "python",
   "name": "python3"
  },
  "language_info": {
   "codemirror_mode": {
    "name": "ipython",
    "version": 3
   },
   "file_extension": ".py",
   "mimetype": "text/x-python",
   "name": "python",
   "nbconvert_exporter": "python",
   "pygments_lexer": "ipython3",
   "version": "3.12.4"
  }
 },
 "nbformat": 4,
 "nbformat_minor": 5
}
